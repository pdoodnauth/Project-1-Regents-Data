{
 "cells": [
  {
   "cell_type": "markdown",
   "id": "0ccda31a",
   "metadata": {},
   "source": [
    "# Class Project: NYC Regents Test Score Review"
   ]
  },
  {
   "cell_type": "code",
   "execution_count": 1,
   "id": "672899ee",
   "metadata": {},
   "outputs": [],
   "source": [
    "import pandas as pd\n",
    "import numpy as np\n",
    "import seaborn as sns\n",
    "import matplotlib.pyplot as plt"
   ]
  },
  {
   "cell_type": "markdown",
   "id": "68541b9b",
   "metadata": {},
   "source": [
    "### Importing Dataset"
   ]
  },
  {
   "cell_type": "code",
   "execution_count": 2,
   "id": "a6e079fc",
   "metadata": {},
   "outputs": [],
   "source": [
    "df_students = pd.read_csv('https://raw.githubusercontent.com/CunyLaguardiaDataAnalytics/datasets/master/2014-15_To_2016-17_School-_Level_NYC_Regents_Report_For_All_Variables.csv')"
   ]
  },
  {
   "cell_type": "markdown",
   "id": "c59370f5",
   "metadata": {},
   "source": [
    "### Reviewing Data"
   ]
  },
  {
   "cell_type": "code",
   "execution_count": 4,
   "id": "5797b588",
   "metadata": {},
   "outputs": [
    {
     "data": {
      "text/html": [
       "<div>\n",
       "<style scoped>\n",
       "    .dataframe tbody tr th:only-of-type {\n",
       "        vertical-align: middle;\n",
       "    }\n",
       "\n",
       "    .dataframe tbody tr th {\n",
       "        vertical-align: top;\n",
       "    }\n",
       "\n",
       "    .dataframe thead th {\n",
       "        text-align: right;\n",
       "    }\n",
       "</style>\n",
       "<table border=\"1\" class=\"dataframe\">\n",
       "  <thead>\n",
       "    <tr style=\"text-align: right;\">\n",
       "      <th></th>\n",
       "      <th>School DBN</th>\n",
       "      <th>School Name</th>\n",
       "      <th>School Level</th>\n",
       "      <th>Regents Exam</th>\n",
       "      <th>Year</th>\n",
       "      <th>Total Tested</th>\n",
       "      <th>Mean Score</th>\n",
       "      <th>Number Scoring Below 65</th>\n",
       "      <th>Percent Scoring Below 65</th>\n",
       "      <th>Number Scoring 65 or Above</th>\n",
       "      <th>Percent Scoring 65 or Above</th>\n",
       "      <th>Number Scoring 80 or Above</th>\n",
       "      <th>Percent Scoring 80 or Above</th>\n",
       "      <th>Number Scoring CR</th>\n",
       "      <th>Percent Scoring CR</th>\n",
       "    </tr>\n",
       "  </thead>\n",
       "  <tbody>\n",
       "    <tr>\n",
       "      <th>0</th>\n",
       "      <td>01M034</td>\n",
       "      <td>P.S. 034 Franklin D. Roosevelt</td>\n",
       "      <td>K-8</td>\n",
       "      <td>Common Core Algebra</td>\n",
       "      <td>2017</td>\n",
       "      <td>4</td>\n",
       "      <td>s</td>\n",
       "      <td>s</td>\n",
       "      <td>s</td>\n",
       "      <td>s</td>\n",
       "      <td>s</td>\n",
       "      <td>s</td>\n",
       "      <td>s</td>\n",
       "      <td>na</td>\n",
       "      <td>na</td>\n",
       "    </tr>\n",
       "    <tr>\n",
       "      <th>1</th>\n",
       "      <td>01M034</td>\n",
       "      <td>P.S. 034 Franklin D. Roosevelt</td>\n",
       "      <td>K-8</td>\n",
       "      <td>Living Environment</td>\n",
       "      <td>2015</td>\n",
       "      <td>16</td>\n",
       "      <td>77.9</td>\n",
       "      <td>1</td>\n",
       "      <td>6.3</td>\n",
       "      <td>15</td>\n",
       "      <td>93.8</td>\n",
       "      <td>7</td>\n",
       "      <td>43.8</td>\n",
       "      <td>na</td>\n",
       "      <td>na</td>\n",
       "    </tr>\n",
       "    <tr>\n",
       "      <th>2</th>\n",
       "      <td>01M034</td>\n",
       "      <td>P.S. 034 Franklin D. Roosevelt</td>\n",
       "      <td>K-8</td>\n",
       "      <td>Living Environment</td>\n",
       "      <td>2016</td>\n",
       "      <td>9</td>\n",
       "      <td>74</td>\n",
       "      <td>1</td>\n",
       "      <td>11.1</td>\n",
       "      <td>8</td>\n",
       "      <td>88.9</td>\n",
       "      <td>2</td>\n",
       "      <td>22.2</td>\n",
       "      <td>na</td>\n",
       "      <td>na</td>\n",
       "    </tr>\n",
       "    <tr>\n",
       "      <th>3</th>\n",
       "      <td>01M140</td>\n",
       "      <td>P.S. 140 Nathan Straus</td>\n",
       "      <td>K-8</td>\n",
       "      <td>Common Core Algebra</td>\n",
       "      <td>2016</td>\n",
       "      <td>3</td>\n",
       "      <td>s</td>\n",
       "      <td>s</td>\n",
       "      <td>s</td>\n",
       "      <td>s</td>\n",
       "      <td>s</td>\n",
       "      <td>s</td>\n",
       "      <td>s</td>\n",
       "      <td>na</td>\n",
       "      <td>na</td>\n",
       "    </tr>\n",
       "    <tr>\n",
       "      <th>4</th>\n",
       "      <td>01M140</td>\n",
       "      <td>P.S. 140 Nathan Straus</td>\n",
       "      <td>K-8</td>\n",
       "      <td>Common Core Algebra</td>\n",
       "      <td>2017</td>\n",
       "      <td>2</td>\n",
       "      <td>s</td>\n",
       "      <td>s</td>\n",
       "      <td>s</td>\n",
       "      <td>s</td>\n",
       "      <td>s</td>\n",
       "      <td>s</td>\n",
       "      <td>s</td>\n",
       "      <td>na</td>\n",
       "      <td>na</td>\n",
       "    </tr>\n",
       "    <tr>\n",
       "      <th>...</th>\n",
       "      <td>...</td>\n",
       "      <td>...</td>\n",
       "      <td>...</td>\n",
       "      <td>...</td>\n",
       "      <td>...</td>\n",
       "      <td>...</td>\n",
       "      <td>...</td>\n",
       "      <td>...</td>\n",
       "      <td>...</td>\n",
       "      <td>...</td>\n",
       "      <td>...</td>\n",
       "      <td>...</td>\n",
       "      <td>...</td>\n",
       "      <td>...</td>\n",
       "      <td>...</td>\n",
       "    </tr>\n",
       "    <tr>\n",
       "      <th>212326</th>\n",
       "      <td>84X717</td>\n",
       "      <td>Icahn Charter School</td>\n",
       "      <td>K-8</td>\n",
       "      <td>Living Environment</td>\n",
       "      <td>2016</td>\n",
       "      <td>8</td>\n",
       "      <td>s</td>\n",
       "      <td>s</td>\n",
       "      <td>s</td>\n",
       "      <td>s</td>\n",
       "      <td>s</td>\n",
       "      <td>s</td>\n",
       "      <td>s</td>\n",
       "      <td>na</td>\n",
       "      <td>na</td>\n",
       "    </tr>\n",
       "    <tr>\n",
       "      <th>212327</th>\n",
       "      <td>84X717</td>\n",
       "      <td>Icahn Charter School</td>\n",
       "      <td>K-8</td>\n",
       "      <td>Living Environment</td>\n",
       "      <td>2016</td>\n",
       "      <td>5</td>\n",
       "      <td>s</td>\n",
       "      <td>s</td>\n",
       "      <td>s</td>\n",
       "      <td>s</td>\n",
       "      <td>s</td>\n",
       "      <td>s</td>\n",
       "      <td>s</td>\n",
       "      <td>na</td>\n",
       "      <td>na</td>\n",
       "    </tr>\n",
       "    <tr>\n",
       "      <th>212328</th>\n",
       "      <td>84X717</td>\n",
       "      <td>Icahn Charter School</td>\n",
       "      <td>K-8</td>\n",
       "      <td>Living Environment</td>\n",
       "      <td>2017</td>\n",
       "      <td>6</td>\n",
       "      <td>s</td>\n",
       "      <td>s</td>\n",
       "      <td>s</td>\n",
       "      <td>s</td>\n",
       "      <td>s</td>\n",
       "      <td>s</td>\n",
       "      <td>s</td>\n",
       "      <td>na</td>\n",
       "      <td>na</td>\n",
       "    </tr>\n",
       "    <tr>\n",
       "      <th>212329</th>\n",
       "      <td>84X717</td>\n",
       "      <td>Icahn Charter School</td>\n",
       "      <td>K-8</td>\n",
       "      <td>Living Environment</td>\n",
       "      <td>2017</td>\n",
       "      <td>4</td>\n",
       "      <td>s</td>\n",
       "      <td>s</td>\n",
       "      <td>s</td>\n",
       "      <td>s</td>\n",
       "      <td>s</td>\n",
       "      <td>s</td>\n",
       "      <td>s</td>\n",
       "      <td>na</td>\n",
       "      <td>na</td>\n",
       "    </tr>\n",
       "    <tr>\n",
       "      <th>212330</th>\n",
       "      <td>84X717</td>\n",
       "      <td>Icahn Charter School</td>\n",
       "      <td>K-8</td>\n",
       "      <td>U.S. History and Government</td>\n",
       "      <td>2015</td>\n",
       "      <td>1</td>\n",
       "      <td>s</td>\n",
       "      <td>s</td>\n",
       "      <td>s</td>\n",
       "      <td>s</td>\n",
       "      <td>s</td>\n",
       "      <td>s</td>\n",
       "      <td>s</td>\n",
       "      <td>na</td>\n",
       "      <td>na</td>\n",
       "    </tr>\n",
       "  </tbody>\n",
       "</table>\n",
       "<p>212331 rows × 15 columns</p>\n",
       "</div>"
      ],
      "text/plain": [
       "       School DBN                     School Name School Level  \\\n",
       "0          01M034  P.S. 034 Franklin D. Roosevelt          K-8   \n",
       "1          01M034  P.S. 034 Franklin D. Roosevelt          K-8   \n",
       "2          01M034  P.S. 034 Franklin D. Roosevelt          K-8   \n",
       "3          01M140          P.S. 140 Nathan Straus          K-8   \n",
       "4          01M140          P.S. 140 Nathan Straus          K-8   \n",
       "...           ...                             ...          ...   \n",
       "212326     84X717            Icahn Charter School          K-8   \n",
       "212327     84X717            Icahn Charter School          K-8   \n",
       "212328     84X717            Icahn Charter School          K-8   \n",
       "212329     84X717            Icahn Charter School          K-8   \n",
       "212330     84X717            Icahn Charter School          K-8   \n",
       "\n",
       "                       Regents Exam  Year  Total Tested Mean Score  \\\n",
       "0               Common Core Algebra  2017             4          s   \n",
       "1                Living Environment  2015            16       77.9   \n",
       "2                Living Environment  2016             9         74   \n",
       "3               Common Core Algebra  2016             3          s   \n",
       "4               Common Core Algebra  2017             2          s   \n",
       "...                             ...   ...           ...        ...   \n",
       "212326           Living Environment  2016             8          s   \n",
       "212327           Living Environment  2016             5          s   \n",
       "212328           Living Environment  2017             6          s   \n",
       "212329           Living Environment  2017             4          s   \n",
       "212330  U.S. History and Government  2015             1          s   \n",
       "\n",
       "       Number Scoring Below 65 Percent Scoring Below 65  \\\n",
       "0                            s                        s   \n",
       "1                            1                      6.3   \n",
       "2                            1                     11.1   \n",
       "3                            s                        s   \n",
       "4                            s                        s   \n",
       "...                        ...                      ...   \n",
       "212326                       s                        s   \n",
       "212327                       s                        s   \n",
       "212328                       s                        s   \n",
       "212329                       s                        s   \n",
       "212330                       s                        s   \n",
       "\n",
       "       Number Scoring 65 or Above Percent Scoring 65 or Above  \\\n",
       "0                               s                           s   \n",
       "1                              15                        93.8   \n",
       "2                               8                        88.9   \n",
       "3                               s                           s   \n",
       "4                               s                           s   \n",
       "...                           ...                         ...   \n",
       "212326                          s                           s   \n",
       "212327                          s                           s   \n",
       "212328                          s                           s   \n",
       "212329                          s                           s   \n",
       "212330                          s                           s   \n",
       "\n",
       "       Number Scoring 80 or Above Percent Scoring 80 or Above  \\\n",
       "0                               s                           s   \n",
       "1                               7                        43.8   \n",
       "2                               2                        22.2   \n",
       "3                               s                           s   \n",
       "4                               s                           s   \n",
       "...                           ...                         ...   \n",
       "212326                          s                           s   \n",
       "212327                          s                           s   \n",
       "212328                          s                           s   \n",
       "212329                          s                           s   \n",
       "212330                          s                           s   \n",
       "\n",
       "       Number Scoring CR Percent Scoring CR  \n",
       "0                     na                 na  \n",
       "1                     na                 na  \n",
       "2                     na                 na  \n",
       "3                     na                 na  \n",
       "4                     na                 na  \n",
       "...                  ...                ...  \n",
       "212326                na                 na  \n",
       "212327                na                 na  \n",
       "212328                na                 na  \n",
       "212329                na                 na  \n",
       "212330                na                 na  \n",
       "\n",
       "[212331 rows x 15 columns]"
      ]
     },
     "execution_count": 4,
     "metadata": {},
     "output_type": "execute_result"
    }
   ],
   "source": [
    "df_students"
   ]
  },
  {
   "cell_type": "code",
   "execution_count": 43,
   "id": "a3c28732",
   "metadata": {},
   "outputs": [
    {
     "data": {
      "text/html": [
       "<div>\n",
       "<style scoped>\n",
       "    .dataframe tbody tr th:only-of-type {\n",
       "        vertical-align: middle;\n",
       "    }\n",
       "\n",
       "    .dataframe tbody tr th {\n",
       "        vertical-align: top;\n",
       "    }\n",
       "\n",
       "    .dataframe thead th {\n",
       "        text-align: right;\n",
       "    }\n",
       "</style>\n",
       "<table border=\"1\" class=\"dataframe\">\n",
       "  <thead>\n",
       "    <tr style=\"text-align: right;\">\n",
       "      <th></th>\n",
       "      <th>Year</th>\n",
       "      <th>Total Tested</th>\n",
       "    </tr>\n",
       "  </thead>\n",
       "  <tbody>\n",
       "    <tr>\n",
       "      <th>count</th>\n",
       "      <td>212331.000000</td>\n",
       "      <td>212331.000000</td>\n",
       "    </tr>\n",
       "    <tr>\n",
       "      <th>mean</th>\n",
       "      <td>2015.956069</td>\n",
       "      <td>49.364200</td>\n",
       "    </tr>\n",
       "    <tr>\n",
       "      <th>std</th>\n",
       "      <td>0.799726</td>\n",
       "      <td>93.023576</td>\n",
       "    </tr>\n",
       "    <tr>\n",
       "      <th>min</th>\n",
       "      <td>2015.000000</td>\n",
       "      <td>1.000000</td>\n",
       "    </tr>\n",
       "    <tr>\n",
       "      <th>25%</th>\n",
       "      <td>2015.000000</td>\n",
       "      <td>5.000000</td>\n",
       "    </tr>\n",
       "    <tr>\n",
       "      <th>50%</th>\n",
       "      <td>2016.000000</td>\n",
       "      <td>20.000000</td>\n",
       "    </tr>\n",
       "    <tr>\n",
       "      <th>75%</th>\n",
       "      <td>2017.000000</td>\n",
       "      <td>57.000000</td>\n",
       "    </tr>\n",
       "    <tr>\n",
       "      <th>max</th>\n",
       "      <td>2017.000000</td>\n",
       "      <td>1729.000000</td>\n",
       "    </tr>\n",
       "  </tbody>\n",
       "</table>\n",
       "</div>"
      ],
      "text/plain": [
       "                Year   Total Tested\n",
       "count  212331.000000  212331.000000\n",
       "mean     2015.956069      49.364200\n",
       "std         0.799726      93.023576\n",
       "min      2015.000000       1.000000\n",
       "25%      2015.000000       5.000000\n",
       "50%      2016.000000      20.000000\n",
       "75%      2017.000000      57.000000\n",
       "max      2017.000000    1729.000000"
      ]
     },
     "execution_count": 43,
     "metadata": {},
     "output_type": "execute_result"
    }
   ],
   "source": [
    "df_students.describe()"
   ]
  },
  {
   "cell_type": "markdown",
   "id": "d15a99f4",
   "metadata": {},
   "source": [
    "## Reviewing General Trends from the entire Dataset"
   ]
  },
  {
   "cell_type": "markdown",
   "id": "bd21e2a6",
   "metadata": {},
   "source": [
    "### Total # of Kids taking regents by Year"
   ]
  },
  {
   "cell_type": "code",
   "execution_count": 6,
   "id": "73da9b0a",
   "metadata": {},
   "outputs": [
    {
     "data": {
      "text/plain": [
       "<AxesSubplot:xlabel='Year'>"
      ]
     },
     "execution_count": 6,
     "metadata": {},
     "output_type": "execute_result"
    },
    {
     "data": {
      "image/png": "[encoded data removed]",
      "text/plain": [
       "<Figure size 432x288 with 1 Axes>"
      ]
     },
     "metadata": {
      "needs_background": "light"
     },
     "output_type": "display_data"
    }
   ],
   "source": [
    "df_students.groupby([\"Year\"])['Regents Exam'].count().plot(kind='bar')"
   ]
  },
  {
   "cell_type": "markdown",
   "id": "ce140213",
   "metadata": {},
   "source": [
    "### No. of all Students taking each Regents Exam from 2015 to 2017"
   ]
  },
  {
   "cell_type": "code",
   "execution_count": 19,
   "id": "3ea31fcc",
   "metadata": {},
   "outputs": [
    {
     "data": {
      "text/plain": [
       "<AxesSubplot:xlabel='Regents Exam'>"
      ]
     },
     "execution_count": 19,
     "metadata": {},
     "output_type": "execute_result"
    },
    {
     "data": {
      "image/png": "[encoded data removed]",
      "text/plain": [
       "<Figure size 432x288 with 1 Axes>"
      ]
     },
     "metadata": {
      "needs_background": "light"
     },
     "output_type": "display_data"
    }
   ],
   "source": [
    "df_students.groupby([\"Regents Exam\"])['Total Tested'].count().plot(kind='bar')"
   ]
  },
  {
   "cell_type": "markdown",
   "id": "61c1360c",
   "metadata": {},
   "source": [
    "### Category of Schools offering Regents Exam"
   ]
  },
  {
   "cell_type": "code",
   "execution_count": 23,
   "id": "6dc76b27",
   "metadata": {},
   "outputs": [
    {
     "data": {
      "text/plain": [
       "<AxesSubplot:xlabel='School Level'>"
      ]
     },
     "execution_count": 23,
     "metadata": {},
     "output_type": "execute_result"
    },
    {
     "data": {
      "image/png": "[encoded data removed]",
      "text/plain": [
       "<Figure size 432x288 with 1 Axes>"
      ]
     },
     "metadata": {
      "needs_background": "light"
     },
     "output_type": "display_data"
    }
   ],
   "source": [
    "df_students.groupby([\"School Level\"],)['Number Scoring CR'].count().plot(kind='bar')"
   ]
  },
  {
   "cell_type": "markdown",
   "id": "5828a833",
   "metadata": {},
   "source": [
    "## Extracting Data for PS/MS 124 Osmond A. Church and Naming New Dataset 'df_124'"
   ]
  },
  {
   "cell_type": "code",
   "execution_count": 47,
   "id": "c6f36293",
   "metadata": {},
   "outputs": [],
   "source": [
    "df_124=df_students[df_students['School DBN'].str.contains('124')]"
   ]
  },
  {
   "cell_type": "code",
   "execution_count": 51,
   "id": "d6de9a5f",
   "metadata": {},
   "outputs": [
    {
     "data": {
      "text/html": [
       "<div>\n",
       "<style scoped>\n",
       "    .dataframe tbody tr th:only-of-type {\n",
       "        vertical-align: middle;\n",
       "    }\n",
       "\n",
       "    .dataframe tbody tr th {\n",
       "        vertical-align: top;\n",
       "    }\n",
       "\n",
       "    .dataframe thead th {\n",
       "        text-align: right;\n",
       "    }\n",
       "</style>\n",
       "<table border=\"1\" class=\"dataframe\">\n",
       "  <thead>\n",
       "    <tr style=\"text-align: right;\">\n",
       "      <th></th>\n",
       "      <th>School DBN</th>\n",
       "      <th>School Name</th>\n",
       "      <th>School Level</th>\n",
       "      <th>Regents Exam</th>\n",
       "      <th>Year</th>\n",
       "      <th>Total Tested</th>\n",
       "      <th>Mean Score</th>\n",
       "      <th>Number Scoring Below 65</th>\n",
       "      <th>Percent Scoring Below 65</th>\n",
       "      <th>Number Scoring 65 or Above</th>\n",
       "      <th>Percent Scoring 65 or Above</th>\n",
       "      <th>Number Scoring 80 or Above</th>\n",
       "      <th>Percent Scoring 80 or Above</th>\n",
       "      <th>Number Scoring CR</th>\n",
       "      <th>Percent Scoring CR</th>\n",
       "    </tr>\n",
       "  </thead>\n",
       "  <tbody>\n",
       "    <tr>\n",
       "      <th>14313</th>\n",
       "      <td>27Q124</td>\n",
       "      <td>P.S. 124 Osmond A Church</td>\n",
       "      <td>K-8</td>\n",
       "      <td>Common Core Algebra</td>\n",
       "      <td>2015</td>\n",
       "      <td>59</td>\n",
       "      <td>74.8</td>\n",
       "      <td>2</td>\n",
       "      <td>3.4</td>\n",
       "      <td>57</td>\n",
       "      <td>96.6</td>\n",
       "      <td>13</td>\n",
       "      <td>22</td>\n",
       "      <td>48</td>\n",
       "      <td>81.4</td>\n",
       "    </tr>\n",
       "    <tr>\n",
       "      <th>14430</th>\n",
       "      <td>27Q124</td>\n",
       "      <td>P.S. 124 Osmond A Church</td>\n",
       "      <td>K-8</td>\n",
       "      <td>Common Core Algebra</td>\n",
       "      <td>2016</td>\n",
       "      <td>35</td>\n",
       "      <td>84.8</td>\n",
       "      <td>0</td>\n",
       "      <td>0</td>\n",
       "      <td>35</td>\n",
       "      <td>100</td>\n",
       "      <td>33</td>\n",
       "      <td>94.3</td>\n",
       "      <td>35</td>\n",
       "      <td>100</td>\n",
       "    </tr>\n",
       "    <tr>\n",
       "      <th>14661</th>\n",
       "      <td>27Q124</td>\n",
       "      <td>P.S. 124 Osmond A Church</td>\n",
       "      <td>K-8</td>\n",
       "      <td>Common Core Algebra</td>\n",
       "      <td>2017</td>\n",
       "      <td>36</td>\n",
       "      <td>85.8</td>\n",
       "      <td>0</td>\n",
       "      <td>0</td>\n",
       "      <td>36</td>\n",
       "      <td>100</td>\n",
       "      <td>34</td>\n",
       "      <td>94.4</td>\n",
       "      <td>36</td>\n",
       "      <td>100</td>\n",
       "    </tr>\n",
       "    <tr>\n",
       "      <th>14719</th>\n",
       "      <td>27Q124</td>\n",
       "      <td>P.S. 124 Osmond A Church</td>\n",
       "      <td>K-8</td>\n",
       "      <td>Living Environment</td>\n",
       "      <td>2015</td>\n",
       "      <td>59</td>\n",
       "      <td>80.8</td>\n",
       "      <td>2</td>\n",
       "      <td>3.4</td>\n",
       "      <td>57</td>\n",
       "      <td>96.6</td>\n",
       "      <td>36</td>\n",
       "      <td>61</td>\n",
       "      <td>na</td>\n",
       "      <td>na</td>\n",
       "    </tr>\n",
       "    <tr>\n",
       "      <th>14720</th>\n",
       "      <td>27Q124</td>\n",
       "      <td>P.S. 124 Osmond A Church</td>\n",
       "      <td>K-8</td>\n",
       "      <td>Living Environment</td>\n",
       "      <td>2016</td>\n",
       "      <td>39</td>\n",
       "      <td>83.6</td>\n",
       "      <td>0</td>\n",
       "      <td>0</td>\n",
       "      <td>39</td>\n",
       "      <td>100</td>\n",
       "      <td>29</td>\n",
       "      <td>74.4</td>\n",
       "      <td>na</td>\n",
       "      <td>na</td>\n",
       "    </tr>\n",
       "    <tr>\n",
       "      <th>...</th>\n",
       "      <td>...</td>\n",
       "      <td>...</td>\n",
       "      <td>...</td>\n",
       "      <td>...</td>\n",
       "      <td>...</td>\n",
       "      <td>...</td>\n",
       "      <td>...</td>\n",
       "      <td>...</td>\n",
       "      <td>...</td>\n",
       "      <td>...</td>\n",
       "      <td>...</td>\n",
       "      <td>...</td>\n",
       "      <td>...</td>\n",
       "      <td>...</td>\n",
       "      <td>...</td>\n",
       "    </tr>\n",
       "    <tr>\n",
       "      <th>194848</th>\n",
       "      <td>27Q124</td>\n",
       "      <td>P.S. 124 Osmond A Church</td>\n",
       "      <td>K-8</td>\n",
       "      <td>Living Environment</td>\n",
       "      <td>2016</td>\n",
       "      <td>1</td>\n",
       "      <td>s</td>\n",
       "      <td>s</td>\n",
       "      <td>s</td>\n",
       "      <td>s</td>\n",
       "      <td>s</td>\n",
       "      <td>s</td>\n",
       "      <td>s</td>\n",
       "      <td>na</td>\n",
       "      <td>na</td>\n",
       "    </tr>\n",
       "    <tr>\n",
       "      <th>194849</th>\n",
       "      <td>27Q124</td>\n",
       "      <td>P.S. 124 Osmond A Church</td>\n",
       "      <td>K-8</td>\n",
       "      <td>Living Environment</td>\n",
       "      <td>2016</td>\n",
       "      <td>2</td>\n",
       "      <td>s</td>\n",
       "      <td>s</td>\n",
       "      <td>s</td>\n",
       "      <td>s</td>\n",
       "      <td>s</td>\n",
       "      <td>s</td>\n",
       "      <td>s</td>\n",
       "      <td>na</td>\n",
       "      <td>na</td>\n",
       "    </tr>\n",
       "    <tr>\n",
       "      <th>194850</th>\n",
       "      <td>27Q124</td>\n",
       "      <td>P.S. 124 Osmond A Church</td>\n",
       "      <td>K-8</td>\n",
       "      <td>Living Environment</td>\n",
       "      <td>2017</td>\n",
       "      <td>33</td>\n",
       "      <td>82.4</td>\n",
       "      <td>1</td>\n",
       "      <td>3</td>\n",
       "      <td>32</td>\n",
       "      <td>97</td>\n",
       "      <td>25</td>\n",
       "      <td>75.8</td>\n",
       "      <td>na</td>\n",
       "      <td>na</td>\n",
       "    </tr>\n",
       "    <tr>\n",
       "      <th>194851</th>\n",
       "      <td>27Q124</td>\n",
       "      <td>P.S. 124 Osmond A Church</td>\n",
       "      <td>K-8</td>\n",
       "      <td>Living Environment</td>\n",
       "      <td>2017</td>\n",
       "      <td>3</td>\n",
       "      <td>s</td>\n",
       "      <td>s</td>\n",
       "      <td>s</td>\n",
       "      <td>s</td>\n",
       "      <td>s</td>\n",
       "      <td>s</td>\n",
       "      <td>s</td>\n",
       "      <td>na</td>\n",
       "      <td>na</td>\n",
       "    </tr>\n",
       "    <tr>\n",
       "      <th>194852</th>\n",
       "      <td>27Q124</td>\n",
       "      <td>P.S. 124 Osmond A Church</td>\n",
       "      <td>K-8</td>\n",
       "      <td>Living Environment</td>\n",
       "      <td>2017</td>\n",
       "      <td>5</td>\n",
       "      <td>s</td>\n",
       "      <td>s</td>\n",
       "      <td>s</td>\n",
       "      <td>s</td>\n",
       "      <td>s</td>\n",
       "      <td>s</td>\n",
       "      <td>s</td>\n",
       "      <td>na</td>\n",
       "      <td>na</td>\n",
       "    </tr>\n",
       "  </tbody>\n",
       "</table>\n",
       "<p>62 rows × 15 columns</p>\n",
       "</div>"
      ],
      "text/plain": [
       "       School DBN               School Name School Level         Regents Exam  \\\n",
       "14313      27Q124  P.S. 124 Osmond A Church          K-8  Common Core Algebra   \n",
       "14430      27Q124  P.S. 124 Osmond A Church          K-8  Common Core Algebra   \n",
       "14661      27Q124  P.S. 124 Osmond A Church          K-8  Common Core Algebra   \n",
       "14719      27Q124  P.S. 124 Osmond A Church          K-8   Living Environment   \n",
       "14720      27Q124  P.S. 124 Osmond A Church          K-8   Living Environment   \n",
       "...           ...                       ...          ...                  ...   \n",
       "194848     27Q124  P.S. 124 Osmond A Church          K-8   Living Environment   \n",
       "194849     27Q124  P.S. 124 Osmond A Church          K-8   Living Environment   \n",
       "194850     27Q124  P.S. 124 Osmond A Church          K-8   Living Environment   \n",
       "194851     27Q124  P.S. 124 Osmond A Church          K-8   Living Environment   \n",
       "194852     27Q124  P.S. 124 Osmond A Church          K-8   Living Environment   \n",
       "\n",
       "        Year  Total Tested Mean Score Number Scoring Below 65  \\\n",
       "14313   2015            59       74.8                       2   \n",
       "14430   2016            35       84.8                       0   \n",
       "14661   2017            36       85.8                       0   \n",
       "14719   2015            59       80.8                       2   \n",
       "14720   2016            39       83.6                       0   \n",
       "...      ...           ...        ...                     ...   \n",
       "194848  2016             1          s                       s   \n",
       "194849  2016             2          s                       s   \n",
       "194850  2017            33       82.4                       1   \n",
       "194851  2017             3          s                       s   \n",
       "194852  2017             5          s                       s   \n",
       "\n",
       "       Percent Scoring Below 65 Number Scoring 65 or Above  \\\n",
       "14313                       3.4                         57   \n",
       "14430                         0                         35   \n",
       "14661                         0                         36   \n",
       "14719                       3.4                         57   \n",
       "14720                         0                         39   \n",
       "...                         ...                        ...   \n",
       "194848                        s                          s   \n",
       "194849                        s                          s   \n",
       "194850                        3                         32   \n",
       "194851                        s                          s   \n",
       "194852                        s                          s   \n",
       "\n",
       "       Percent Scoring 65 or Above Number Scoring 80 or Above  \\\n",
       "14313                         96.6                         13   \n",
       "14430                          100                         33   \n",
       "14661                          100                         34   \n",
       "14719                         96.6                         36   \n",
       "14720                          100                         29   \n",
       "...                            ...                        ...   \n",
       "194848                           s                          s   \n",
       "194849                           s                          s   \n",
       "194850                          97                         25   \n",
       "194851                           s                          s   \n",
       "194852                           s                          s   \n",
       "\n",
       "       Percent Scoring 80 or Above Number Scoring CR Percent Scoring CR  \n",
       "14313                           22                48               81.4  \n",
       "14430                         94.3                35                100  \n",
       "14661                         94.4                36                100  \n",
       "14719                           61                na                 na  \n",
       "14720                         74.4                na                 na  \n",
       "...                            ...               ...                ...  \n",
       "194848                           s                na                 na  \n",
       "194849                           s                na                 na  \n",
       "194850                        75.8                na                 na  \n",
       "194851                           s                na                 na  \n",
       "194852                           s                na                 na  \n",
       "\n",
       "[62 rows x 15 columns]"
      ]
     },
     "execution_count": 51,
     "metadata": {},
     "output_type": "execute_result"
    }
   ],
   "source": [
    "df_124"
   ]
  },
  {
   "cell_type": "code",
   "execution_count": 52,
   "id": "4b43305e",
   "metadata": {},
   "outputs": [
    {
     "data": {
      "text/plain": [
       "<AxesSubplot:xlabel='Regents Exam'>"
      ]
     },
     "execution_count": 52,
     "metadata": {},
     "output_type": "execute_result"
    },
    {
     "data": {
      "image/png": "[encoded data removed]",
      "text/plain": [
       "<Figure size 432x288 with 1 Axes>"
      ]
     },
     "metadata": {
      "needs_background": "light"
     },
     "output_type": "display_data"
    }
   ],
   "source": [
    "df_124.groupby([\"Regents Exam\"])['Total Tested'].count().plot(kind='bar')"
   ]
  },
  {
   "cell_type": "code",
   "execution_count": 53,
   "id": "08e185e0",
   "metadata": {},
   "outputs": [
    {
     "data": {
      "text/plain": [
       "<AxesSubplot:xlabel='Year'>"
      ]
     },
     "execution_count": 53,
     "metadata": {},
     "output_type": "execute_result"
    },
    {
     "data": {
      "image/png": "[encoded data removed]",
      "text/plain": [
       "<Figure size 432x288 with 1 Axes>"
      ]
     },
     "metadata": {
      "needs_background": "light"
     },
     "output_type": "display_data"
    }
   ],
   "source": [
    "df_124.groupby([\"Year\"])['Regents Exam'].count().plot(kind='bar')"
   ]
  },
  {
   "cell_type": "code",
   "execution_count": 85,
   "id": "59594783",
   "metadata": {},
   "outputs": [
    {
     "data": {
      "text/html": [
       "<div>\n",
       "<style scoped>\n",
       "    .dataframe tbody tr th:only-of-type {\n",
       "        vertical-align: middle;\n",
       "    }\n",
       "\n",
       "    .dataframe tbody tr th {\n",
       "        vertical-align: top;\n",
       "    }\n",
       "\n",
       "    .dataframe thead th {\n",
       "        text-align: right;\n",
       "    }\n",
       "</style>\n",
       "<table border=\"1\" class=\"dataframe\">\n",
       "  <thead>\n",
       "    <tr style=\"text-align: right;\">\n",
       "      <th></th>\n",
       "      <th></th>\n",
       "      <th>Total Tested</th>\n",
       "    </tr>\n",
       "    <tr>\n",
       "      <th>Regents Exam</th>\n",
       "      <th>Year</th>\n",
       "      <th></th>\n",
       "    </tr>\n",
       "  </thead>\n",
       "  <tbody>\n",
       "    <tr>\n",
       "      <th rowspan=\"3\" valign=\"top\">Common Core Algebra</th>\n",
       "      <th>2015</th>\n",
       "      <td>295</td>\n",
       "    </tr>\n",
       "    <tr>\n",
       "      <th>2016</th>\n",
       "      <td>175</td>\n",
       "    </tr>\n",
       "    <tr>\n",
       "      <th>2017</th>\n",
       "      <td>180</td>\n",
       "    </tr>\n",
       "    <tr>\n",
       "      <th rowspan=\"3\" valign=\"top\">Living Environment</th>\n",
       "      <th>2015</th>\n",
       "      <td>295</td>\n",
       "    </tr>\n",
       "    <tr>\n",
       "      <th>2016</th>\n",
       "      <td>195</td>\n",
       "    </tr>\n",
       "    <tr>\n",
       "      <th>2017</th>\n",
       "      <td>205</td>\n",
       "    </tr>\n",
       "  </tbody>\n",
       "</table>\n",
       "</div>"
      ],
      "text/plain": [
       "                          Total Tested\n",
       "Regents Exam        Year              \n",
       "Common Core Algebra 2015           295\n",
       "                    2016           175\n",
       "                    2017           180\n",
       "Living Environment  2015           295\n",
       "                    2016           195\n",
       "                    2017           205"
      ]
     },
     "execution_count": 85,
     "metadata": {},
     "output_type": "execute_result"
    }
   ],
   "source": [
    "df_124[['Regents Exam','Year','Total Tested']].groupby(['Regents Exam','Year']).sum('Total Tested')"
   ]
  },
  {
   "cell_type": "code",
   "execution_count": 93,
   "id": "14bdaa7c",
   "metadata": {},
   "outputs": [
    {
     "data": {
      "text/plain": [
       "<AxesSubplot:xlabel='Regents Exam,Year'>"
      ]
     },
     "execution_count": 93,
     "metadata": {},
     "output_type": "execute_result"
    },
    {
     "data": {
      "image/png": "[encoded data removed]",
      "text/plain": [
       "<Figure size 432x288 with 1 Axes>"
      ]
     },
     "metadata": {
      "needs_background": "light"
     },
     "output_type": "display_data"
    }
   ],
   "source": [
    "df_124[['Regents Exam','Year','Total Tested']].groupby(['Regents Exam','Year']).sum('Total Tested').plot(kind='bar')"
   ]
  },
  {
   "cell_type": "code",
   "execution_count": 101,
   "id": "2236e44f",
   "metadata": {},
   "outputs": [],
   "source": []
  },
  {
   "cell_type": "code",
   "execution_count": null,
   "id": "4dfa74af",
   "metadata": {},
   "outputs": [],
   "source": []
  }
 ],
 "metadata": {
  "kernelspec": {
   "display_name": "Python 3",
   "language": "python",
   "name": "python3"
  },
  "language_info": {
   "codemirror_mode": {
    "name": "ipython",
    "version": 3
   },
   "file_extension": ".py",
   "mimetype": "text/x-python",
   "name": "python",
   "nbconvert_exporter": "python",
   "pygments_lexer": "ipython3",
   "version": "3.8.8"
  }
 },
 "nbformat": 4,
 "nbformat_minor": 5
}
